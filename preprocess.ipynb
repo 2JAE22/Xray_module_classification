{
 "cells": [
  {
   "cell_type": "code",
   "execution_count": 4,
   "metadata": {},
   "outputs": [
    {
     "name": "stdout",
     "output_type": "stream",
     "text": [
      "CSV 파일이 /home/vilab/category_mapping.csv에 저장되었습니다.\n"
     ]
    }
   ],
   "source": [
    "import os\n",
    "import json\n",
    "import pandas as pd\n",
    "\n",
    "# JSON 파일들이 있는 디렉토리 경로\n",
    "directory_path = \"/home/vilab/data/Training_Color/02.라벨링데이터/TL_위해물품\"\n",
    "\n",
    "# 결과를 저장할 리스트\n",
    "categories_data = []\n",
    "\n",
    "# 디렉토리 내 모든 파일 순회\n",
    "for folder_name in os.listdir(directory_path):\n",
    "    folder_path = os.path.join(directory_path, folder_name)\n",
    "    if os.path.isdir(folder_path):  # 폴더 내 json 파일 순회\n",
    "        for file_name in os.listdir(folder_path):\n",
    "            if file_name.endswith(\".json\"):\n",
    "                file_path = os.path.join(folder_path, file_name)\n",
    "                with open(file_path, \"r\", encoding=\"utf-8\") as file:\n",
    "                    data = json.load(file)\n",
    "                    for category in data.get(\"categories\", []):\n",
    "                        categories_data.append({\n",
    "                            \"category_name\": category[\"name\"],\n",
    "                            \"category_id\": category[\"id\"]\n",
    "                        })\n",
    "\n",
    "# DataFrame 생성\n",
    "df = pd.DataFrame(categories_data).drop_duplicates()\n",
    "\n",
    "# CSV 파일로 저장\n",
    "output_csv_path = \"/home/vilab/category_mapping.csv\"\n",
    "df.to_csv(output_csv_path, index=False)\n",
    "\n",
    "print(f\"CSV 파일이 {output_csv_path}에 저장되었습니다.\")\n"
   ]
  }
 ],
 "metadata": {
  "kernelspec": {
   "display_name": "paper",
   "language": "python",
   "name": "python3"
  },
  "language_info": {
   "codemirror_mode": {
    "name": "ipython",
    "version": 3
   },
   "file_extension": ".py",
   "mimetype": "text/x-python",
   "name": "python",
   "nbconvert_exporter": "python",
   "pygments_lexer": "ipython3",
   "version": "3.10.15"
  }
 },
 "nbformat": 4,
 "nbformat_minor": 2
}
